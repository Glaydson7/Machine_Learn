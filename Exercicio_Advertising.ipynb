{
 "cells": [
  {
   "cell_type": "markdown",
   "metadata": {},
   "source": [
    "### Importação dos módulos"
   ]
  },
  {
   "cell_type": "code",
   "execution_count": 5,
   "metadata": {},
   "outputs": [],
   "source": [
    "import warnings\n",
    "warnings.filterwarnings('ignore')\n",
    "import pandas as pd\n",
    "from sklearn.model_selection import train_test_split\n",
    "from sklearn.linear_model import LinearRegression\n",
    "from sklearn import metrics\n",
    "import numpy as np"
   ]
  },
  {
   "cell_type": "code",
   "execution_count": 15,
   "metadata": {},
   "outputs": [],
   "source": [
    "testes = [['TV','radio', 'newspaper'],['radio', 'newspaper'], ['TV','newspaper'],['TV','radio']]\n",
    "vencedor = {'teste': '', 'performance': None}\n",
    "primeira_passagem = True\n",
    "publi = pd.read_csv('http://www-bcf.usc.edu/~gareth/ISL/Advertising.csv',index_col=0)"
   ]
  },
  {
   "cell_type": "code",
   "execution_count": 16,
   "metadata": {},
   "outputs": [
    {
     "name": "stdout",
     "output_type": "stream",
     "text": [
      "Teste: \n",
      "['TV', 'radio', 'newspaper']\n",
      "Performance: \n",
      "1.5825316802028753\n",
      "-----------------\n",
      "Teste: \n",
      "['radio', 'newspaper']\n",
      "Performance: \n",
      "4.044704848174974\n",
      "-----------------\n",
      "Teste: \n",
      "['TV', 'newspaper']\n",
      "Performance: \n",
      "3.095160664554645\n",
      "-----------------\n",
      "Teste: \n",
      "['TV', 'radio']\n",
      "Performance: \n",
      "1.5821239241271168\n",
      "-----------------\n",
      "-----------------\n",
      "Vencedor: \n",
      "['TV', 'radio']\n",
      "Performance do vencedor: \n",
      "1.5821239241271168\n"
     ]
    }
   ],
   "source": [
    "for teste in testes:\n",
    "    x = publi[teste]\n",
    "    y = publi['sales']\n",
    "    x_train, x_test, y_train, y_test = train_test_split(x,y,test_size=0.30,random_state=5)\n",
    "    reglin = LinearRegression()\n",
    "    reglin.fit(x_train,y_train)\n",
    "    y_prev = reglin.predict(x_test)\n",
    "    rmse = np.sqrt(metrics.mean_squared_error(y_test,y_prev))\n",
    "    print('Teste: ')\n",
    "    print(teste)\n",
    "    print('Performance: ')\n",
    "    print(rmse)\n",
    "    print('-----------------')\n",
    "    if (primeira_passagem):\n",
    "        vencedor['teste'] = teste\n",
    "        vencedor['performance'] = rmse\n",
    "        primeira_passagem = False\n",
    "    else:\n",
    "        if (rmse < vencedor['performance']):\n",
    "            vencedor['teste'] = teste\n",
    "            vencedor['performance'] = rmse\n",
    "\n",
    "print('-----------------') \n",
    "print('Vencedor: ')\n",
    "print(vencedor['teste'])\n",
    "print('Performance do vencedor: ')\n",
    "print(vencedor['performance'])"
   ]
  },
  {
   "cell_type": "code",
   "execution_count": null,
   "metadata": {},
   "outputs": [],
   "source": []
  }
 ],
 "metadata": {
  "kernelspec": {
   "display_name": "Python 3",
   "language": "python",
   "name": "python3"
  },
  "language_info": {
   "codemirror_mode": {
    "name": "ipython",
    "version": 3
   },
   "file_extension": ".py",
   "mimetype": "text/x-python",
   "name": "python",
   "nbconvert_exporter": "python",
   "pygments_lexer": "ipython3",
   "version": "3.6.5"
  }
 },
 "nbformat": 4,
 "nbformat_minor": 2
}
