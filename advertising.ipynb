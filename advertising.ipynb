{
 "cells": [
  {
   "cell_type": "code",
   "execution_count": 1,
   "metadata": {},
   "outputs": [
    {
     "data": {
      "text/html": [
       "<div>\n",
       "<style scoped>\n",
       "    .dataframe tbody tr th:only-of-type {\n",
       "        vertical-align: middle;\n",
       "    }\n",
       "\n",
       "    .dataframe tbody tr th {\n",
       "        vertical-align: top;\n",
       "    }\n",
       "\n",
       "    .dataframe thead th {\n",
       "        text-align: right;\n",
       "    }\n",
       "</style>\n",
       "<table border=\"1\" class=\"dataframe\">\n",
       "  <thead>\n",
       "    <tr style=\"text-align: right;\">\n",
       "      <th></th>\n",
       "      <th>TV</th>\n",
       "      <th>radio</th>\n",
       "      <th>newspaper</th>\n",
       "      <th>sales</th>\n",
       "    </tr>\n",
       "  </thead>\n",
       "  <tbody>\n",
       "    <tr>\n",
       "      <th>1</th>\n",
       "      <td>230.1</td>\n",
       "      <td>37.8</td>\n",
       "      <td>69.2</td>\n",
       "      <td>22.1</td>\n",
       "    </tr>\n",
       "    <tr>\n",
       "      <th>2</th>\n",
       "      <td>44.5</td>\n",
       "      <td>39.3</td>\n",
       "      <td>45.1</td>\n",
       "      <td>10.4</td>\n",
       "    </tr>\n",
       "    <tr>\n",
       "      <th>3</th>\n",
       "      <td>17.2</td>\n",
       "      <td>45.9</td>\n",
       "      <td>69.3</td>\n",
       "      <td>9.3</td>\n",
       "    </tr>\n",
       "    <tr>\n",
       "      <th>4</th>\n",
       "      <td>151.5</td>\n",
       "      <td>41.3</td>\n",
       "      <td>58.5</td>\n",
       "      <td>18.5</td>\n",
       "    </tr>\n",
       "    <tr>\n",
       "      <th>5</th>\n",
       "      <td>180.8</td>\n",
       "      <td>10.8</td>\n",
       "      <td>58.4</td>\n",
       "      <td>12.9</td>\n",
       "    </tr>\n",
       "  </tbody>\n",
       "</table>\n",
       "</div>"
      ],
      "text/plain": [
       "      TV  radio  newspaper  sales\n",
       "1  230.1   37.8       69.2   22.1\n",
       "2   44.5   39.3       45.1   10.4\n",
       "3   17.2   45.9       69.3    9.3\n",
       "4  151.5   41.3       58.5   18.5\n",
       "5  180.8   10.8       58.4   12.9"
      ]
     },
     "execution_count": 1,
     "metadata": {},
     "output_type": "execute_result"
    }
   ],
   "source": [
    "import pandas as pd\n",
    "\n",
    "publi = pd.read_csv('http://www-bcf.usc.edu/~gareth/ISL/Advertising.csv',index_col=0)\n",
    "publi.head()"
   ]
  },
  {
   "cell_type": "code",
   "execution_count": 2,
   "metadata": {},
   "outputs": [
    {
     "name": "stdout",
     "output_type": "stream",
     "text": [
      "(200, 4)\n"
     ]
    }
   ],
   "source": [
    "print(publi.shape)"
   ]
  },
  {
   "cell_type": "code",
   "execution_count": 3,
   "metadata": {},
   "outputs": [],
   "source": [
    "x = publi[['TV','radio', 'newspaper']]\n",
    "y = publi['sales']"
   ]
  },
  {
   "cell_type": "code",
   "execution_count": 4,
   "metadata": {},
   "outputs": [
    {
     "data": {
      "text/plain": [
       "(200, 3)"
      ]
     },
     "execution_count": 4,
     "metadata": {},
     "output_type": "execute_result"
    }
   ],
   "source": [
    "x.shape"
   ]
  },
  {
   "cell_type": "code",
   "execution_count": 5,
   "metadata": {},
   "outputs": [
    {
     "data": {
      "text/plain": [
       "(200,)"
      ]
     },
     "execution_count": 5,
     "metadata": {},
     "output_type": "execute_result"
    }
   ],
   "source": [
    "y.shape"
   ]
  },
  {
   "cell_type": "code",
   "execution_count": 6,
   "metadata": {},
   "outputs": [
    {
     "name": "stderr",
     "output_type": "stream",
     "text": [
      "/Library/Frameworks/Python.framework/Versions/3.6/lib/python3.6/site-packages/scipy/stats/stats.py:1713: FutureWarning: Using a non-tuple sequence for multidimensional indexing is deprecated; use `arr[tuple(seq)]` instead of `arr[seq]`. In the future this will be interpreted as an array index, `arr[np.array(seq)]`, which will result either in an error or a different result.\n",
      "  return np.add.reduce(sorted[indexer] * weights, axis=axis) / sumval\n"
     ]
    },
    {
     "data": {
      "text/plain": [
       "<seaborn.axisgrid.PairGrid at 0x118b13400>"
      ]
     },
     "execution_count": 6,
     "metadata": {},
     "output_type": "execute_result"
    }
   ],
   "source": [
    "import seaborn as sns\n",
    "sns.pairplot(publi, x_vars=['TV','radio', 'newspaper'], y_vars='sales', size=7, kind='reg')"
   ]
  },
  {
   "cell_type": "code",
   "execution_count": 7,
   "metadata": {},
   "outputs": [],
   "source": [
    "from sklearn.model_selection import train_test_split\n",
    "x_train, x_test, y_train, y_test = train_test_split(x,y,test_size=0.30,random_state=5)"
   ]
  },
  {
   "cell_type": "markdown",
   "metadata": {},
   "source": [
    "## Importação do modelo de regressão linear"
   ]
  },
  {
   "cell_type": "code",
   "execution_count": 8,
   "metadata": {},
   "outputs": [
    {
     "name": "stderr",
     "output_type": "stream",
     "text": [
      "/Library/Frameworks/Python.framework/Versions/3.6/lib/python3.6/site-packages/sklearn/linear_model/base.py:509: RuntimeWarning: internal gelsd driver lwork query error, required iwork dimension not returned. This is likely the result of LAPACK bug 0038, fixed in LAPACK 3.2.2 (released July 21, 2010). Falling back to 'gelss' driver.\n",
      "  linalg.lstsq(X, y)\n"
     ]
    },
    {
     "data": {
      "text/plain": [
       "LinearRegression(copy_X=True, fit_intercept=True, n_jobs=1, normalize=False)"
      ]
     },
     "execution_count": 8,
     "metadata": {},
     "output_type": "execute_result"
    }
   ],
   "source": [
    "from sklearn.linear_model import LinearRegression\n",
    "reglin = LinearRegression()\n",
    "reglin.fit(x_train,y_train)"
   ]
  },
  {
   "cell_type": "markdown",
   "metadata": {},
   "source": [
    "### Coeficientes: Aumento nas vendas para cada 1un investida em publicidade"
   ]
  },
  {
   "cell_type": "code",
   "execution_count": 9,
   "metadata": {},
   "outputs": [
    {
     "data": {
      "text/plain": [
       "[('TV', 0.04668512206177773),\n",
       " ('radio', 0.18501553453551423),\n",
       " ('newspaper', -0.0015304267242331005)]"
      ]
     },
     "execution_count": 9,
     "metadata": {},
     "output_type": "execute_result"
    }
   ],
   "source": [
    "list(zip(['TV','radio', 'newspaper'],reglin.coef_))"
   ]
  },
  {
   "cell_type": "markdown",
   "metadata": {},
   "source": [
    "### Previsão"
   ]
  },
  {
   "cell_type": "code",
   "execution_count": 10,
   "metadata": {},
   "outputs": [
    {
     "name": "stdout",
     "output_type": "stream",
     "text": [
      "[ 6.81057871 13.85553519 12.19071591  9.80746626 15.63552195 10.10726578\n",
      " 13.85639727 11.69570633 19.57289989 10.70200132 18.89676557  7.69423008\n",
      " 14.96942948 16.50998946 21.31237989 20.43708495 17.60317491 20.54908713\n",
      "  6.67087274 11.74265195 10.75799527 15.05174303 20.54706248 14.42570106\n",
      " 19.96135224 21.33448159 13.97054268 23.35717801  8.45514555 20.84998043\n",
      " 15.86999695 15.33338947 21.80769468 18.45552511 12.82705009  9.43659316\n",
      "  5.42557656 12.08387952 19.35734929  8.19043934 12.47853095 16.97647715\n",
      " 10.73795787 15.26797326 16.72364603 12.2583435  15.08384655 16.43250419\n",
      " 14.33374794 10.46257596 15.10826603  7.2191011  14.15164628 16.49287732\n",
      " 15.23547114  8.94344031  7.58659069 17.89584427 22.99403868 12.87971019]\n"
     ]
    }
   ],
   "source": [
    "y_prev = reglin.predict(x_test)\n",
    "print(y_prev)"
   ]
  },
  {
   "cell_type": "markdown",
   "metadata": {},
   "source": [
    "## Avaliação da Performance"
   ]
  },
  {
   "cell_type": "markdown",
   "metadata": {},
   "source": [
    "### MAE (Mean absolute error)"
   ]
  },
  {
   "cell_type": "code",
   "execution_count": 11,
   "metadata": {},
   "outputs": [],
   "source": [
    "from sklearn import metrics"
   ]
  },
  {
   "cell_type": "code",
   "execution_count": 12,
   "metadata": {},
   "outputs": [
    {
     "name": "stdout",
     "output_type": "stream",
     "text": [
      "1.2162256013390462\n"
     ]
    }
   ],
   "source": [
    "print(metrics.mean_absolute_error(y_test,y_prev))"
   ]
  },
  {
   "cell_type": "markdown",
   "metadata": {},
   "source": [
    "### MSE (Mean squared error)"
   ]
  },
  {
   "cell_type": "code",
   "execution_count": 13,
   "metadata": {},
   "outputs": [
    {
     "name": "stdout",
     "output_type": "stream",
     "text": [
      "2.5044065188457356\n"
     ]
    }
   ],
   "source": [
    "print(metrics.mean_squared_error(y_test,y_prev))"
   ]
  },
  {
   "cell_type": "markdown",
   "metadata": {},
   "source": [
    "### RMSE (Root mean squared error)"
   ]
  },
  {
   "cell_type": "code",
   "execution_count": 14,
   "metadata": {},
   "outputs": [
    {
     "name": "stdout",
     "output_type": "stream",
     "text": [
      "1.5825316802028753\n"
     ]
    }
   ],
   "source": [
    "import numpy as np\n",
    "print(np.sqrt(metrics.mean_squared_error(y_test,y_prev)))"
   ]
  },
  {
   "cell_type": "code",
   "execution_count": 18,
   "metadata": {},
   "outputs": [
    {
     "name": "stdout",
     "output_type": "stream",
     "text": [
      "{'fit_intercept': True, 'normalize': False, 'copy_X': True, 'n_jobs': 1, 'coef_': array([ 0.04668512,  0.18501553, -0.00153043]), '_residues': 409.56775235072905, 'rank_': 3, 'singular_': array([1019.08906376,  277.4580276 ,  160.69354432]), 'intercept_': 2.9787673054549213}\n"
     ]
    }
   ],
   "source": [
    "print(reglin.__dict__)"
   ]
  },
  {
   "cell_type": "code",
   "execution_count": 20,
   "metadata": {},
   "outputs": [
    {
     "name": "stdout",
     "output_type": "stream",
     "text": [
      "__abstractmethods__: frozenset()\n",
      "__class__: <class 'sklearn.linear_model.base.LinearRegression'>\n",
      "__delattr__: <method-wrapper '__delattr__' of LinearRegression object at 0x11e95a9b0>\n",
      "__dict__: {'fit_intercept': True, 'normalize': False, 'copy_X': True, 'n_jobs': 1, 'coef_': array([ 0.04668512,  0.18501553, -0.00153043]), '_residues': 409.56775235072905, 'rank_': 3, 'singular_': array([1019.08906376,  277.4580276 ,  160.69354432]), 'intercept_': 2.9787673054549213}\n",
      "__dir__: <built-in method __dir__ of LinearRegression object at 0x11e95a9b0>\n",
      "__doc__: '\\n    Ordinary least squares Linear Regression.\\n\\n    Parameters\\n    ----------\\n    fit_intercept : boolean, optional, default True\\n        whether to calculate the intercept for this model. If set\\n        to False, no intercept will be used in calculations\\n        (e.g. data is expected to be already centered).\\n\\n    normalize : boolean, optional, default False\\n        This parameter is ignored when ``fit_intercept`` is set to False.\\n        If True, the regressors X will be normalized before regression by\\n        subtracting the mean and dividing by the l2-norm.\\n        If you wish to standardize, please use\\n        :class:`sklearn.preprocessing.StandardScaler` before calling ``fit`` on\\n        an estimator with ``normalize=False``.\\n\\n    copy_X : boolean, optional, default True\\n        If True, X will be copied; else, it may be overwritten.\\n\\n    n_jobs : int, optional, default 1\\n        The number of jobs to use for the computation.\\n        If -1 all CPUs are used. This will only provide speedup for\\n        n_targets > 1 and sufficient large problems.\\n\\n    Attributes\\n    ----------\\n    coef_ : array, shape (n_features, ) or (n_targets, n_features)\\n        Estimated coefficients for the linear regression problem.\\n        If multiple targets are passed during the fit (y 2D), this\\n        is a 2D array of shape (n_targets, n_features), while if only\\n        one target is passed, this is a 1D array of length n_features.\\n\\n    intercept_ : array\\n        Independent term in the linear model.\\n\\n    Notes\\n    -----\\n    From the implementation point of view, this is just plain Ordinary\\n    Least Squares (scipy.linalg.lstsq) wrapped as a predictor object.\\n\\n    '\n",
      "__eq__: <method-wrapper '__eq__' of LinearRegression object at 0x11e95a9b0>\n",
      "__format__: <built-in method __format__ of LinearRegression object at 0x11e95a9b0>\n",
      "__ge__: <method-wrapper '__ge__' of LinearRegression object at 0x11e95a9b0>\n",
      "__getattribute__: <method-wrapper '__getattribute__' of LinearRegression object at 0x11e95a9b0>\n",
      "__getstate__: <bound method BaseEstimator.__getstate__ of LinearRegression(copy_X=True, fit_intercept=True, n_jobs=1, normalize=False)>\n",
      "__gt__: <method-wrapper '__gt__' of LinearRegression object at 0x11e95a9b0>\n",
      "__hash__: <method-wrapper '__hash__' of LinearRegression object at 0x11e95a9b0>\n",
      "__init__: <bound method LinearRegression.__init__ of LinearRegression(copy_X=True, fit_intercept=True, n_jobs=1, normalize=False)>\n",
      "__init_subclass__: <built-in method __init_subclass__ of ABCMeta object at 0x7f8290453b18>\n",
      "__le__: <method-wrapper '__le__' of LinearRegression object at 0x11e95a9b0>\n",
      "__lt__: <method-wrapper '__lt__' of LinearRegression object at 0x11e95a9b0>\n",
      "__module__: 'sklearn.linear_model.base'\n",
      "__ne__: <method-wrapper '__ne__' of LinearRegression object at 0x11e95a9b0>\n",
      "__new__: <built-in method __new__ of type object at 0x109d24520>\n",
      "__reduce__: <built-in method __reduce__ of LinearRegression object at 0x11e95a9b0>\n",
      "__reduce_ex__: <built-in method __reduce_ex__ of LinearRegression object at 0x11e95a9b0>\n",
      "__repr__: <bound method BaseEstimator.__repr__ of LinearRegression(copy_X=True, fit_intercept=True, n_jobs=1, normalize=False)>\n",
      "__setattr__: <method-wrapper '__setattr__' of LinearRegression object at 0x11e95a9b0>\n",
      "__setstate__: <bound method BaseEstimator.__setstate__ of LinearRegression(copy_X=True, fit_intercept=True, n_jobs=1, normalize=False)>\n",
      "__sizeof__: <built-in method __sizeof__ of LinearRegression object at 0x11e95a9b0>\n",
      "__str__: <method-wrapper '__str__' of LinearRegression object at 0x11e95a9b0>\n",
      "__subclasshook__: <built-in method __subclasshook__ of ABCMeta object at 0x7f8290453b18>\n",
      "__weakref__: None\n",
      "_abc_cache: <_weakrefset.WeakSet object at 0x11ec0a0f0>\n",
      "_abc_negative_cache: <_weakrefset.WeakSet object at 0x11ec0a160>\n",
      "_abc_negative_cache_version: 51\n",
      "_abc_registry: <_weakrefset.WeakSet object at 0x11ec0a0b8>\n",
      "_decision_function: <bound method LinearModel._decision_function of LinearRegression(copy_X=True, fit_intercept=True, n_jobs=1, normalize=False)>\n",
      "_estimator_type: 'regressor'\n",
      "_get_param_names: <bound method BaseEstimator._get_param_names of <class 'sklearn.linear_model.base.LinearRegression'>>\n",
      "_preprocess_data: <function _preprocess_data at 0x11ebf4ea0>\n",
      "_residues: 409.56775235072905\n",
      "_set_intercept: <bound method LinearModel._set_intercept of LinearRegression(copy_X=True, fit_intercept=True, n_jobs=1, normalize=False)>\n",
      "coef_: array([ 0.04668512,  0.18501553, -0.00153043])\n",
      "copy_X: True\n",
      "fit: <bound method LinearRegression.fit of LinearRegression(copy_X=True, fit_intercept=True, n_jobs=1, normalize=False)>\n",
      "fit_intercept: True\n",
      "get_params: <bound method BaseEstimator.get_params of LinearRegression(copy_X=True, fit_intercept=True, n_jobs=1, normalize=False)>\n",
      "intercept_: 2.9787673054549213\n",
      "n_jobs: 1\n",
      "normalize: False\n",
      "predict: <bound method LinearModel.predict of LinearRegression(copy_X=True, fit_intercept=True, n_jobs=1, normalize=False)>\n",
      "rank_: 3\n",
      "score: <bound method RegressorMixin.score of LinearRegression(copy_X=True, fit_intercept=True, n_jobs=1, normalize=False)>\n",
      "set_params: <bound method BaseEstimator.set_params of LinearRegression(copy_X=True, fit_intercept=True, n_jobs=1, normalize=False)>\n",
      "singular_: array([1019.08906376,  277.4580276 ,  160.69354432])\n"
     ]
    }
   ],
   "source": [
    "for attr in dir(reglin):\n",
    "    print(\"%s: %r\" % (attr, getattr(reglin, attr)))"
   ]
  },
  {
   "cell_type": "code",
   "execution_count": null,
   "metadata": {},
   "outputs": [],
   "source": []
  }
 ],
 "metadata": {
  "kernelspec": {
   "display_name": "Python 3",
   "language": "python",
   "name": "python3"
  },
  "language_info": {
   "codemirror_mode": {
    "name": "ipython",
    "version": 3
   },
   "file_extension": ".py",
   "mimetype": "text/x-python",
   "name": "python",
   "nbconvert_exporter": "python",
   "pygments_lexer": "ipython3",
   "version": "3.6.5"
  }
 },
 "nbformat": 4,
 "nbformat_minor": 2
}
